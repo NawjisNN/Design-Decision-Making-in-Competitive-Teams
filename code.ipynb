{
  "cells": [
    {
      "cell_type": "code",
      "execution_count": null,
      "metadata": {
        "id": "zwFnJsE6vjf8"
      },
      "outputs": [],
      "source": []
    },
    {
      "cell_type": "code",
      "source": [
        "import GPy\n",
        "import GPyOpt\n",
        "\n",
        "def objective_function(x):\n",
        "    \"\"\"Simulate an objective function for optimization, e.g., a design problem.\"\"\"\n",
        "    return (x - 2)**2  # Example function: the goal is to find x=2\n",
        "\n",
        "# Setup the domain for the decision variable\n",
        "domain = [{'name': 'var_1', 'type': 'continuous', 'domain': (0, 4)}]\n",
        "\n",
        "# Create the Bayesian optimization model\n",
        "optimizer = GPyOpt.methods.BayesianOptimization(f=objective_function,  # objective function\n",
        "                                                domain=domain,          # decision variable domain\n",
        "                                                acquisition_type='EI')  # Expected Improvement\n"
      ],
      "metadata": {
        "colab": {
          "base_uri": "https://localhost:8080/",
          "height": 383
        },
        "id": "O6vE744tqXNH",
        "outputId": "b6807212-b3dd-4e77-f343-4e91acbc9d99"
      },
      "execution_count": null,
      "outputs": [
        {
          "output_type": "error",
          "ename": "ModuleNotFoundError",
          "evalue": "No module named 'GPy'",
          "traceback": [
            "\u001b[0;31m---------------------------------------------------------------------------\u001b[0m",
            "\u001b[0;31mModuleNotFoundError\u001b[0m                       Traceback (most recent call last)",
            "\u001b[0;32m<ipython-input-1-04972d631db9>\u001b[0m in \u001b[0;36m<cell line: 1>\u001b[0;34m()\u001b[0m\n\u001b[0;32m----> 1\u001b[0;31m \u001b[0;32mimport\u001b[0m \u001b[0mGPy\u001b[0m\u001b[0;34m\u001b[0m\u001b[0;34m\u001b[0m\u001b[0m\n\u001b[0m\u001b[1;32m      2\u001b[0m \u001b[0;32mimport\u001b[0m \u001b[0mGPyOpt\u001b[0m\u001b[0;34m\u001b[0m\u001b[0;34m\u001b[0m\u001b[0m\n\u001b[1;32m      3\u001b[0m \u001b[0;34m\u001b[0m\u001b[0m\n\u001b[1;32m      4\u001b[0m \u001b[0;32mdef\u001b[0m \u001b[0mobjective_function\u001b[0m\u001b[0;34m(\u001b[0m\u001b[0mx\u001b[0m\u001b[0;34m)\u001b[0m\u001b[0;34m:\u001b[0m\u001b[0;34m\u001b[0m\u001b[0;34m\u001b[0m\u001b[0m\n\u001b[1;32m      5\u001b[0m     \u001b[0;34m\"\"\"Simulate an objective function for optimization, e.g., a design problem.\"\"\"\u001b[0m\u001b[0;34m\u001b[0m\u001b[0;34m\u001b[0m\u001b[0m\n",
            "\u001b[0;31mModuleNotFoundError\u001b[0m: No module named 'GPy'",
            "",
            "\u001b[0;31m---------------------------------------------------------------------------\u001b[0;32m\nNOTE: If your import is failing due to a missing package, you can\nmanually install dependencies using either !pip or !apt.\n\nTo view examples of installing some common dependencies, click the\n\"Open Examples\" button below.\n\u001b[0;31m---------------------------------------------------------------------------\u001b[0m\n"
          ],
          "errorDetails": {
            "actions": [
              {
                "action": "open_url",
                "actionText": "Open Examples",
                "url": "/notebooks/snippets/importing_libraries.ipynb"
              }
            ]
          }
        }
      ]
    },
    {
      "cell_type": "code",
      "source": [
        "pip install GPy\n"
      ],
      "metadata": {
        "colab": {
          "base_uri": "https://localhost:8080/"
        },
        "id": "Z5UqllKFq4y1",
        "outputId": "240f212b-4d7b-402b-fd74-c1f111a368e8"
      },
      "execution_count": null,
      "outputs": [
        {
          "output_type": "stream",
          "name": "stdout",
          "text": [
            "Collecting GPy\n",
            "  Downloading GPy-1.13.1-cp310-cp310-manylinux_2_17_x86_64.manylinux2014_x86_64.whl (3.6 MB)\n",
            "\u001b[2K     \u001b[90m━━━━━━━━━━━━━━━━━━━━━━━━━━━━━━━━━━━━━━━━\u001b[0m \u001b[32m3.6/3.6 MB\u001b[0m \u001b[31m16.5 MB/s\u001b[0m eta \u001b[36m0:00:00\u001b[0m\n",
            "\u001b[?25hRequirement already satisfied: numpy>=1.7 in /usr/local/lib/python3.10/dist-packages (from GPy) (1.25.2)\n",
            "Requirement already satisfied: six in /usr/local/lib/python3.10/dist-packages (from GPy) (1.16.0)\n",
            "Collecting paramz>=0.9.6 (from GPy)\n",
            "  Downloading paramz-0.9.6-py3-none-any.whl (103 kB)\n",
            "\u001b[2K     \u001b[90m━━━━━━━━━━━━━━━━━━━━━━━━━━━━━━━━━━━━━━━━\u001b[0m \u001b[32m103.2/103.2 kB\u001b[0m \u001b[31m11.4 MB/s\u001b[0m eta \u001b[36m0:00:00\u001b[0m\n",
            "\u001b[?25hRequirement already satisfied: cython>=0.29 in /usr/local/lib/python3.10/dist-packages (from GPy) (3.0.10)\n",
            "Requirement already satisfied: scipy<1.12.0,>=1.3.0 in /usr/local/lib/python3.10/dist-packages (from GPy) (1.11.4)\n",
            "Requirement already satisfied: decorator>=4.0.10 in /usr/local/lib/python3.10/dist-packages (from paramz>=0.9.6->GPy) (4.4.2)\n",
            "Installing collected packages: paramz, GPy\n",
            "Successfully installed GPy-1.13.1 paramz-0.9.6\n"
          ]
        }
      ]
    },
    {
      "cell_type": "code",
      "source": [
        "pip install GPyOpt\n"
      ],
      "metadata": {
        "colab": {
          "base_uri": "https://localhost:8080/"
        },
        "id": "EJP0O67Xq-In",
        "outputId": "2d4074e8-fc70-4ee4-c73f-273ae413d366"
      },
      "execution_count": null,
      "outputs": [
        {
          "output_type": "stream",
          "name": "stdout",
          "text": [
            "Collecting GPyOpt\n",
            "  Downloading GPyOpt-1.2.6.tar.gz (56 kB)\n",
            "\u001b[2K     \u001b[90m━━━━━━━━━━━━━━━━━━━━━━━━━━━━━━━━━━━━━━━━\u001b[0m \u001b[32m56.8/56.8 kB\u001b[0m \u001b[31m547.6 kB/s\u001b[0m eta \u001b[36m0:00:00\u001b[0m\n",
            "\u001b[?25h  Preparing metadata (setup.py) ... \u001b[?25l\u001b[?25hdone\n",
            "Requirement already satisfied: numpy>=1.7 in /usr/local/lib/python3.10/dist-packages (from GPyOpt) (1.25.2)\n",
            "Requirement already satisfied: scipy>=0.16 in /usr/local/lib/python3.10/dist-packages (from GPyOpt) (1.11.4)\n",
            "Requirement already satisfied: GPy>=1.8 in /usr/local/lib/python3.10/dist-packages (from GPyOpt) (1.13.1)\n",
            "Requirement already satisfied: six in /usr/local/lib/python3.10/dist-packages (from GPy>=1.8->GPyOpt) (1.16.0)\n",
            "Requirement already satisfied: paramz>=0.9.6 in /usr/local/lib/python3.10/dist-packages (from GPy>=1.8->GPyOpt) (0.9.6)\n",
            "Requirement already satisfied: cython>=0.29 in /usr/local/lib/python3.10/dist-packages (from GPy>=1.8->GPyOpt) (3.0.10)\n",
            "Requirement already satisfied: decorator>=4.0.10 in /usr/local/lib/python3.10/dist-packages (from paramz>=0.9.6->GPy>=1.8->GPyOpt) (4.4.2)\n",
            "Building wheels for collected packages: GPyOpt\n",
            "  Building wheel for GPyOpt (setup.py) ... \u001b[?25l\u001b[?25hdone\n",
            "  Created wheel for GPyOpt: filename=GPyOpt-1.2.6-py3-none-any.whl size=83588 sha256=eaa93ecd45169476d4c300be69f052258418338beff046da44ec26c9ef1be51a\n",
            "  Stored in directory: /root/.cache/pip/wheels/72/17/52/9d818b4c60f733bf49d5cf82bc2758ebbdc57a0471137c37be\n",
            "Successfully built GPyOpt\n",
            "Installing collected packages: GPyOpt\n",
            "Successfully installed GPyOpt-1.2.6\n"
          ]
        }
      ]
    },
    {
      "cell_type": "code",
      "source": [
        "import GPy\n",
        "import GPyOpt\n",
        "\n",
        "def objective_function(x):\n",
        "    \"\"\"Simulate an objective function for optimization, e.g., a design problem.\"\"\"\n",
        "    return (x - 2)**2  # Example function: the goal is to find x=2\n",
        "\n",
        "# Setup the domain for the decision variable\n",
        "domain = [{'name': 'var_1', 'type': 'continuous', 'domain': (0, 4)}]\n",
        "\n",
        "# Create the Bayesian optimization model\n",
        "optimizer = GPyOpt.methods.BayesianOptimization(f=objective_function,  # objective function\n",
        "                                                domain=domain,          # decision variable domain\n",
        "                                                acquisition_type='EI')  # Expected Improvement\n"
      ],
      "metadata": {
        "id": "9NpswrULrD8f"
      },
      "execution_count": null,
      "outputs": []
    },
    {
      "cell_type": "code",
      "source": [
        "import numpy as np\n",
        "import tensorflow as tf\n",
        "from tensorflow.keras.models import Sequential\n",
        "from tensorflow.keras.layers import LSTM, Dense\n",
        "\n",
        "def generate_sequence():\n",
        "    \"\"\"Generate a random sequence of decisions for training.\"\"\"\n",
        "    return np.random.rand(100, 1)  # 100 time steps of decisions\n",
        "\n",
        "# Prepare data for LSTM\n",
        "data = generate_sequence()\n",
        "target = np.roll(data, -1)  # target is the next time step\n",
        "\n",
        "# Define the LSTM model\n",
        "model = Sequential([\n",
        "    LSTM(50, activation='relu', input_shape=(1, 1)),\n",
        "    Dense(1)\n",
        "])\n",
        "model.compile(optimizer='adam', loss='mse')\n",
        "\n",
        "# Reshape data for LSTM\n",
        "data = data.reshape((data.shape[0], 1, data.shape[1]))\n",
        "\n",
        "# Train the LSTM model\n",
        "model.fit(data, target, epochs=200, verbose=0)\n"
      ],
      "metadata": {
        "colab": {
          "base_uri": "https://localhost:8080/"
        },
        "id": "8CU-1wO3rICM",
        "outputId": "47841499-d655-47e3-eddc-ba220cffae5c"
      },
      "execution_count": null,
      "outputs": [
        {
          "output_type": "execute_result",
          "data": {
            "text/plain": [
              "<keras.src.callbacks.History at 0x79b14056b790>"
            ]
          },
          "metadata": {},
          "execution_count": 5
        }
      ]
    },
    {
      "cell_type": "code",
      "source": [
        "def game_theory_payoff(decisions):\n",
        "    \"\"\"Calculate payoffs based on simple competitive game theory dynamics.\"\"\"\n",
        "    team_a, team_b = decisions\n",
        "    if team_a > team_b:\n",
        "        return 1, 0  # Team A wins\n",
        "    elif team_b > team_a:\n",
        "        return 0, 1  # Team B wins\n",
        "    else:\n",
        "        return 0.5, 0.5  # Draw\n"
      ],
      "metadata": {
        "id": "OBPHeGkRrNgR"
      },
      "execution_count": null,
      "outputs": []
    },
    {
      "cell_type": "code",
      "source": [
        "for _ in range(10):  # Run 10 rounds of the simulation\n",
        "    # Bayesian Optimization to select the next decision\n",
        "    x_next = optimizer.suggest_next_locations()\n",
        "    outcome = objective_function(x_next)\n",
        "    optimizer.update_next(x_next, outcome)\n",
        "\n",
        "    # Sequence Prediction for decision-making strategy\n",
        "    predicted_decision = model.predict(np.array([[x_next]]).reshape(1, 1, 1))\n",
        "\n",
        "    # Game Theory interaction\n",
        "    team_decisions = [x_next, predicted_decision.flatten()[0]]\n",
        "    payoffs = game_theory_payoff(team_decisions)\n",
        "    print(f\"Round results: Decisions: {team_decisions} Payoffs: {payoffs}\")\n"
      ],
      "metadata": {
        "colab": {
          "base_uri": "https://localhost:8080/",
          "height": 211
        },
        "id": "VGL3iIVqrQ3N",
        "outputId": "6f4c5fc8-c576-43d4-f269-930e97612953"
      },
      "execution_count": null,
      "outputs": [
        {
          "output_type": "error",
          "ename": "AttributeError",
          "evalue": "'BayesianOptimization' object has no attribute 'update_next'",
          "traceback": [
            "\u001b[0;31m---------------------------------------------------------------------------\u001b[0m",
            "\u001b[0;31mAttributeError\u001b[0m                            Traceback (most recent call last)",
            "\u001b[0;32m<ipython-input-7-98bdcaeff638>\u001b[0m in \u001b[0;36m<cell line: 1>\u001b[0;34m()\u001b[0m\n\u001b[1;32m      3\u001b[0m     \u001b[0mx_next\u001b[0m \u001b[0;34m=\u001b[0m \u001b[0moptimizer\u001b[0m\u001b[0;34m.\u001b[0m\u001b[0msuggest_next_locations\u001b[0m\u001b[0;34m(\u001b[0m\u001b[0;34m)\u001b[0m\u001b[0;34m\u001b[0m\u001b[0;34m\u001b[0m\u001b[0m\n\u001b[1;32m      4\u001b[0m     \u001b[0moutcome\u001b[0m \u001b[0;34m=\u001b[0m \u001b[0mobjective_function\u001b[0m\u001b[0;34m(\u001b[0m\u001b[0mx_next\u001b[0m\u001b[0;34m)\u001b[0m\u001b[0;34m\u001b[0m\u001b[0;34m\u001b[0m\u001b[0m\n\u001b[0;32m----> 5\u001b[0;31m     \u001b[0moptimizer\u001b[0m\u001b[0;34m.\u001b[0m\u001b[0mupdate_next\u001b[0m\u001b[0;34m(\u001b[0m\u001b[0mx_next\u001b[0m\u001b[0;34m,\u001b[0m \u001b[0moutcome\u001b[0m\u001b[0;34m)\u001b[0m\u001b[0;34m\u001b[0m\u001b[0;34m\u001b[0m\u001b[0m\n\u001b[0m\u001b[1;32m      6\u001b[0m \u001b[0;34m\u001b[0m\u001b[0m\n\u001b[1;32m      7\u001b[0m     \u001b[0;31m# Sequence Prediction for decision-making strategy\u001b[0m\u001b[0;34m\u001b[0m\u001b[0;34m\u001b[0m\u001b[0m\n",
            "\u001b[0;31mAttributeError\u001b[0m: 'BayesianOptimization' object has no attribute 'update_next'"
          ]
        }
      ]
    },
    {
      "cell_type": "code",
      "source": [
        "for _ in range(10):  # Run 10 rounds of the simulation\n",
        "    # Bayesian Optimization to select the next decision\n",
        "    x_next = optimizer.suggest_next_locations()\n",
        "    outcome = objective_function(x_next)\n",
        "    optimizer.add_new_observation(x_next, outcome)  # Correct method to update the optimizer\n",
        "\n",
        "    # Sequence Prediction for decision-making strategy\n",
        "    predicted_decision = model.predict(np.array([[x_next]]).reshape(1, 1, 1))\n",
        "\n",
        "    # Game Theory interaction\n",
        "    team_decisions = [x_next, predicted_decision.flatten()[0]]\n",
        "    payoffs = game_theory_payoff(team_decisions)\n",
        "    print(f\"Round results: Decisions: {team_decisions} Payoffs: {payoffs}\")\n"
      ],
      "metadata": {
        "colab": {
          "base_uri": "https://localhost:8080/",
          "height": 211
        },
        "id": "JVnZzHCgrhXw",
        "outputId": "2b8c57a7-871c-42bf-acb7-ad308b938855"
      },
      "execution_count": null,
      "outputs": [
        {
          "output_type": "error",
          "ename": "AttributeError",
          "evalue": "'BayesianOptimization' object has no attribute 'add_new_observation'",
          "traceback": [
            "\u001b[0;31m---------------------------------------------------------------------------\u001b[0m",
            "\u001b[0;31mAttributeError\u001b[0m                            Traceback (most recent call last)",
            "\u001b[0;32m<ipython-input-8-1570700db6a8>\u001b[0m in \u001b[0;36m<cell line: 1>\u001b[0;34m()\u001b[0m\n\u001b[1;32m      3\u001b[0m     \u001b[0mx_next\u001b[0m \u001b[0;34m=\u001b[0m \u001b[0moptimizer\u001b[0m\u001b[0;34m.\u001b[0m\u001b[0msuggest_next_locations\u001b[0m\u001b[0;34m(\u001b[0m\u001b[0;34m)\u001b[0m\u001b[0;34m\u001b[0m\u001b[0;34m\u001b[0m\u001b[0m\n\u001b[1;32m      4\u001b[0m     \u001b[0moutcome\u001b[0m \u001b[0;34m=\u001b[0m \u001b[0mobjective_function\u001b[0m\u001b[0;34m(\u001b[0m\u001b[0mx_next\u001b[0m\u001b[0;34m)\u001b[0m\u001b[0;34m\u001b[0m\u001b[0;34m\u001b[0m\u001b[0m\n\u001b[0;32m----> 5\u001b[0;31m     \u001b[0moptimizer\u001b[0m\u001b[0;34m.\u001b[0m\u001b[0madd_new_observation\u001b[0m\u001b[0;34m(\u001b[0m\u001b[0mx_next\u001b[0m\u001b[0;34m,\u001b[0m \u001b[0moutcome\u001b[0m\u001b[0;34m)\u001b[0m  \u001b[0;31m# Correct method to update the optimizer\u001b[0m\u001b[0;34m\u001b[0m\u001b[0;34m\u001b[0m\u001b[0m\n\u001b[0m\u001b[1;32m      6\u001b[0m \u001b[0;34m\u001b[0m\u001b[0m\n\u001b[1;32m      7\u001b[0m     \u001b[0;31m# Sequence Prediction for decision-making strategy\u001b[0m\u001b[0;34m\u001b[0m\u001b[0;34m\u001b[0m\u001b[0m\n",
            "\u001b[0;31mAttributeError\u001b[0m: 'BayesianOptimization' object has no attribute 'add_new_observation'"
          ]
        }
      ]
    },
    {
      "cell_type": "code",
      "source": [
        "# Define number of iterations for the optimization\n",
        "max_iter = 10\n",
        "\n",
        "# Optimization loop\n",
        "for _ in range(max_iter):\n",
        "    # Run one step of the optimization method (it suggests the next locations to evaluate, evaluates them, and updates the model)\n",
        "    optimizer.run_optimization(max_iter=1)\n",
        "\n",
        "    # Access the latest suggested point and its evaluation\n",
        "    x_next = optimizer.X[-1]\n",
        "    outcome = optimizer.Y[-1]\n",
        "\n",
        "    # Sequence Prediction for decision-making strategy\n",
        "    predicted_decision = model.predict(np.array([[x_next]]).reshape(1, 1, 1))\n",
        "\n",
        "    # Game Theory interaction\n",
        "    team_decisions = [x_next[0], predicted_decision.flatten()[0]]\n",
        "    payoffs = game_theory_payoff(team_decisions)\n",
        "    print(f\"Round results: Decisions: {team_decisions} Payoffs: {payoffs}\")\n"
      ],
      "metadata": {
        "colab": {
          "base_uri": "https://localhost:8080/"
        },
        "id": "5hRtIMJRrwii",
        "outputId": "5e840e40-4ada-46dc-c232-e5d451e792d7"
      },
      "execution_count": null,
      "outputs": [
        {
          "output_type": "stream",
          "name": "stdout",
          "text": [
            "1/1 [==============================] - 0s 314ms/step\n",
            "Round results: Decisions: [2.1719559031415487, 0.8001219] Payoffs: (1, 0)\n",
            "1/1 [==============================] - 0s 19ms/step\n",
            "Round results: Decisions: [2.0016807554076412, 0.77307504] Payoffs: (1, 0)\n",
            "1/1 [==============================] - 0s 19ms/step\n",
            "Round results: Decisions: [2.657591505695717, 0.8766735] Payoffs: (1, 0)\n",
            "1/1 [==============================] - 0s 22ms/step\n",
            "Round results: Decisions: [0.1447852557713678, 0.45163035] Payoffs: (0, 1)\n",
            "1/1 [==============================] - 0s 19ms/step\n",
            "Round results: Decisions: [0.7918881159070623, 0.5743207] Payoffs: (1, 0)\n",
            "1/1 [==============================] - 0s 21ms/step\n",
            "Round results: Decisions: [3.9674196942513964, 1.0783143] Payoffs: (1, 0)\n",
            "1/1 [==============================] - 0s 19ms/step\n",
            "Round results: Decisions: [1.1003239893513106, 0.6266833] Payoffs: (1, 0)\n",
            "1/1 [==============================] - 0s 28ms/step\n",
            "Round results: Decisions: [2.091612818111897, 0.78737295] Payoffs: (1, 0)\n",
            "1/1 [==============================] - 0s 42ms/step\n",
            "Round results: Decisions: [2.6881605184607062, 0.88146174] Payoffs: (1, 0)\n",
            "1/1 [==============================] - 0s 19ms/step\n",
            "Round results: Decisions: [2.5862666763024538, 0.865487] Payoffs: (1, 0)\n"
          ]
        }
      ]
    }
  ],
  "metadata": {
    "colab": {
      "toc_visible": true,
      "provenance": []
    },
    "kernelspec": {
      "display_name": "Python 3",
      "name": "python3"
    }
  },
  "nbformat": 4,
  "nbformat_minor": 0
}